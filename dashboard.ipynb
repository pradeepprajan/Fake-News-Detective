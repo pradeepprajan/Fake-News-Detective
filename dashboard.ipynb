{
  "nbformat": 4,
  "nbformat_minor": 0,
  "metadata": {
    "colab": {
      "name": "dashboard.ipynb",
      "provenance": []
    },
    "kernelspec": {
      "name": "python3",
      "display_name": "Python 3"
    },
    "language_info": {
      "name": "python"
    }
  },
  "cells": [
    {
      "cell_type": "markdown",
      "metadata": {
        "id": "a6NUncnirLNZ"
      },
      "source": [
        "Importing the required libraries"
      ]
    },
    {
      "cell_type": "code",
      "metadata": {
        "id": "euKIkppAY-VN"
      },
      "source": [
        "import dash\n",
        "import dash_core_components as dcc\n",
        "import dash_html_components as html\n",
        "import plotly.express as px\n",
        "import dash_bootstrap_components as dbc\n",
        "import pandas as pd\n",
        "from dash.dependencies import Output, Input"
      ],
      "execution_count": null,
      "outputs": []
    },
    {
      "cell_type": "markdown",
      "metadata": {
        "id": "8aX7oSoXrReY"
      },
      "source": [
        "Loading the train and test datasets with predictions"
      ]
    },
    {
      "cell_type": "code",
      "metadata": {
        "id": "jfUPq-sarRCZ"
      },
      "source": [
        "dataset_predict = pd.read_csv('dataset_predict.csv')\n",
        "dataset_predict = dataset_predict.drop(columns=['Unnamed: 0'])\n",
        "dataset_test_predict = pd.read_csv('dataset_test_predict.csv')\n",
        "dataset_test_predict = dataset_test_predict.drop(columns=['Unnamed: 0'])"
      ],
      "execution_count": null,
      "outputs": []
    },
    {
      "cell_type": "markdown",
      "metadata": {
        "id": "pblEDeCfrZGw"
      },
      "source": [
        "combining train and test data sets"
      ]
    },
    {
      "cell_type": "code",
      "metadata": {
        "id": "rr4tyn6prbbo"
      },
      "source": [
        "dataset_predict_combined = pd.concat([dataset_predict, dataset_test_predict], ignore_index=True)\n",
        "dataset_predict_combined.reset_index()"
      ],
      "execution_count": null,
      "outputs": []
    },
    {
      "cell_type": "markdown",
      "metadata": {
        "id": "dXW21xxVrdeA"
      },
      "source": [
        "creating a dataframe of number of articles published by each source"
      ]
    },
    {
      "cell_type": "code",
      "metadata": {
        "id": "E2i2FEs3rfVR"
      },
      "source": [
        "news_articles_count = dataset_predict_combined.groupby('Sources', as_index=False).count()\n",
        "news_articles_count = news_articles_count.rename(columns={'Headlines': 'Article_Count'})\n",
        "news_articles_count = news_articles_count.drop(columns=['Source_code', 'Prediction', 'Category'])"
      ],
      "execution_count": null,
      "outputs": []
    },
    {
      "cell_type": "markdown",
      "metadata": {
        "id": "yKbMyDl3rg34"
      },
      "source": [
        "creating a dataframe of percentage of articles under a particular category for each source"
      ]
    },
    {
      "cell_type": "code",
      "metadata": {
        "id": "rER5LXnNriyh"
      },
      "source": [
        "news_classification = dataset_predict_combined.groupby(['Sources', 'Category'], as_index=False).count()\n",
        "news_classification = news_classification.rename(columns={'Headlines': 'Article_Count'})\n",
        "news_classification = news_classification.drop(columns=['Source_code', 'Prediction'])\n",
        "percentage = []\n",
        "for source in list(news_articles_count['Sources']):\n",
        "    for row in list(news_classification['Article_Count'][news_classification['Sources'] == source]):\n",
        "        percent = (row / int(\n",
        "            news_articles_count['Article_Count'][news_articles_count['Sources'] == source])) * 100\n",
        "        percentage.append(percent)\n",
        "news_classification['Percentage'] = percentage"
      ],
      "execution_count": null,
      "outputs": []
    },
    {
      "cell_type": "markdown",
      "metadata": {
        "id": "9fzT_7Ckruox"
      },
      "source": [
        "Color map for pie chart and latest headlines. The latest headlines will be displayed in the color corresponding\n",
        "to the category they belong to"
      ]
    },
    {
      "cell_type": "code",
      "metadata": {
        "id": "d0ENxLjMryQA"
      },
      "source": [
        "color_map = {1:'blue',2:'#89CFF0',3:'green',4:'orange',5:'red',6:'maroon'}"
      ],
      "execution_count": null,
      "outputs": []
    },
    {
      "cell_type": "markdown",
      "metadata": {
        "id": "B1Ibp86wr1RA"
      },
      "source": [
        "Code for creating dashboard"
      ]
    },
    {
      "cell_type": "code",
      "metadata": {
        "id": "bzBxEPP-r33w"
      },
      "source": [
        "app = dash.Dash(__name__, external_stylesheets=[dbc.themes.COSMO])\n",
        "server = app.server\n",
        "sources_list = ['Op India', 'Zero Hedge', 'US Daily Info', 'News Punch',\n",
        "                'News Target', 'The Epoch Times', 'Right Scoop', 'News Busters',\n",
        "                'Big League Politics', 'Children Health Defense', 'Breitbart',\n",
        "                'Info Wars', 'All News Pipeline', 'Alt Market', 'True Pundit',\n",
        "                'Survival News', 'DC Clothes Line', 'Great Game India', 'Forward Observer',\n",
        "                'OANN', 'The Post Millennial', 'NDTV', 'The Quint', 'The Print',\n",
        "                'India Today', 'News 18', 'Times of India', 'The Indian Express', 'Money Control',\n",
        "                'Financial Express', 'Republic World', 'India TV']\n",
        "option_list = []\n",
        "for s in sources_list:\n",
        "    params = {'label': s, 'value': s}\n",
        "    option_list.append(params)\n",
        "dropdown = html.Div([\n",
        "    html.Label('Select the news source', style={'display': 'block', 'fontSize': 15, 'marginLeft': 10}),\n",
        "    dcc.Dropdown(\n",
        "        id='news-source',\n",
        "        options=option_list,\n",
        "        value='NDTV',\n",
        "        clearable=False,\n",
        "        style={'marginLeft': 10, 'marginRight': 20}\n",
        "    )\n",
        "])\n",
        "app.layout = html.Div(\n",
        "    [\n",
        "        dbc.Row([\n",
        "            dbc.Col((html.H1('Fake News Headlines Detective',\n",
        "                             style={'textAlign': 'center', 'color': 'white', 'marginTop': 90})), width=12)\n",
        "        ], style={'background-color': 'indigo', 'marginBottom': 20, 'height': 200}),\n",
        "        html.Div([\n",
        "            dbc.Row([\n",
        "                dbc.Col(html.H2(html.B('Latest News Headlines'),\n",
        "                                style={'textAlign': 'left', 'marginBottom': 30, 'marginLeft': 10}), width=12)\n",
        "            ]),\n",
        "            dbc.Row([\n",
        "                dbc.Col(html.Div([\n",
        "                    html.Blockquote(dataset_test_predict['Headlines'][0], style={'marginLeft': 30, 'fontSize': 18}),\n",
        "                    html.Figcaption(html.I(f'-{dataset_test_predict[\"Sources\"][0]}',\n",
        "                                           style={'marginLeft': 60, 'marginTop': 20, 'fontSize': 12})),\n",
        "                ]\n",
        "                ), width=7),\n",
        "                dbc.Col(html.Div(html.H5(f'Category {dataset_test_predict[\"Category\"][0]}')), width=4,\n",
        "                        style={'textAlign': 'Right'})\n",
        "            ], style={'marginBottom': 50,'color':color_map[dataset_test_predict[\"Category\"][0]]}),\n",
        "            dbc.Row([\n",
        "                dbc.Col(html.Hr(style={'width': '95%', 'color': 'grey', 'marginBottom': 20}))\n",
        "            ]),\n",
        "            dbc.Row([\n",
        "                dbc.Col(html.Div([\n",
        "                    html.Blockquote(dataset_test_predict['Headlines'][1], style={'marginLeft': 30, 'fontSize': 18}),\n",
        "                    html.Figcaption(html.I(f'-{dataset_test_predict[\"Sources\"][1]}',\n",
        "                                           style={'marginLeft': 60, 'marginTop': 20, 'fontSize': 12})),\n",
        "                ]\n",
        "                ), width=7),\n",
        "                dbc.Col(html.Div(html.H5(f'Category {dataset_test_predict[\"Category\"][1]}')), width=4,\n",
        "                        style={'textAlign': 'Right'})\n",
        "            ], style={'marginBottom': 50,'color':color_map[dataset_test_predict[\"Category\"][1]]}),\n",
        "            dbc.Row([\n",
        "                dbc.Col(html.Hr(style={'width': '95%', 'color': 'grey', 'marginBottom': 20}))\n",
        "            ]),\n",
        "            dbc.Row([\n",
        "                dbc.Col(html.Div([\n",
        "                    html.Blockquote(dataset_test_predict['Headlines'][2], style={'marginLeft': 30, 'fontSize': 18}),\n",
        "                    html.Figcaption(html.I(f'-{dataset_test_predict[\"Sources\"][2]}',\n",
        "                                           style={'marginLeft': 60, 'marginTop': 20, 'fontSize': 12})),\n",
        "                ]\n",
        "                ), width=7),\n",
        "                dbc.Col(html.Div(html.H5(f'Category {dataset_test_predict[\"Category\"][2]}')), width=4,\n",
        "                        style={'textAlign': 'Right'})\n",
        "            ], style={'marginBottom': 50, 'color':color_map[dataset_test_predict[\"Category\"][2]]}),\n",
        "            dbc.Row([\n",
        "                dbc.Col(html.Hr(style={'width': '95%', 'color': 'grey', 'marginBottom': 20}))\n",
        "            ]),\n",
        "            dbc.Row([\n",
        "                dbc.Col(html.Div([\n",
        "                    html.Blockquote(dataset_test_predict['Headlines'][3], style={'marginLeft': 30, 'fontSize': 18}),\n",
        "                    html.Figcaption(html.I(f'-{dataset_test_predict[\"Sources\"][3]}'),\n",
        "                                    style={'marginLeft': 60, 'marginTop': 20, 'fontSize': 12}),\n",
        "                ]\n",
        "                ), width=7),\n",
        "                dbc.Col(html.Div(html.H5(f'Category {dataset_test_predict[\"Category\"][3]}')), width=4,\n",
        "                        style={'textAlign': 'Right'})\n",
        "            ], style={'marginBottom': 50,'color':color_map[dataset_test_predict[\"Category\"][3]]}),\n",
        "            dbc.Row([\n",
        "                dbc.Col(html.Hr(style={'width': '95%', 'color': 'grey', 'marginBottom': 20}))\n",
        "            ]),\n",
        "            dbc.Row([\n",
        "                dbc.Col(html.Div([\n",
        "                    html.Blockquote(dataset_test_predict['Headlines'][4], style={'marginLeft': 30, 'fontSize': 18}),\n",
        "                    html.Figcaption(html.I(f'-{dataset_test_predict[\"Sources\"][4]}'),\n",
        "                                    style={'marginLeft': 60, 'marginTop': 20, 'fontSize': 12}),\n",
        "                ]\n",
        "                ), width=7),\n",
        "                dbc.Col(html.Div(html.H5(f'Category {dataset_test_predict[\"Category\"][4]}')), width=4,\n",
        "                        style={'textAlign': 'Right'})\n",
        "            ], style={'marginBottom': 50,'color':color_map[dataset_test_predict[\"Category\"][4]]}),\n",
        "            dbc.Row([\n",
        "                dbc.Col(html.Hr(style={'width': '95%', 'color': 'grey', 'marginBottom': 20}))\n",
        "            ]),\n",
        "            dbc.Row([\n",
        "                dbc.Col(html.Div([\n",
        "                    html.Blockquote(dataset_test_predict['Headlines'][5], style={'marginLeft': 30, 'fontSize': 18}),\n",
        "                    html.Figcaption(html.I(f'-{dataset_test_predict[\"Sources\"][5]}'),\n",
        "                                    style={'marginLeft': 60, 'marginTop': 20, 'fontSize': 12}),\n",
        "                ]\n",
        "                ), width=7),\n",
        "                dbc.Col(html.Div(html.H5(f'Category {dataset_test_predict[\"Category\"][5]}')), width=4,\n",
        "                        style={'textAlign': 'Right'})\n",
        "            ], style={'marginBottom': 50,'color':color_map[dataset_test_predict[\"Category\"][5]]}),\n",
        "            dbc.Row([\n",
        "                dbc.Col(html.Hr(style={'width': '95%', 'color': 'grey', 'marginBottom': 20}))\n",
        "            ]),\n",
        "            dbc.Row([\n",
        "                dbc.Col(html.Div([\n",
        "                    html.Blockquote(dataset_test_predict['Headlines'][6], style={'marginLeft': 30, 'fontSize': 18}),\n",
        "                    html.Figcaption(html.I(f'-{dataset_test_predict[\"Sources\"][6]}'),\n",
        "                                    style={'marginLeft': 60, 'marginTop': 20, 'fontSize': 12}),\n",
        "                ]\n",
        "                ), width=7),\n",
        "                dbc.Col(html.Div(html.H5(f'Category {dataset_test_predict[\"Category\"][6]}')), width=4,\n",
        "                        style={'textAlign': 'Right'})\n",
        "            ], style={'marginBottom': 50,'color':color_map[dataset_test_predict[\"Category\"][6]]}),\n",
        "            dbc.Row([\n",
        "                dbc.Col(html.Hr(style={'width': '95%', 'color': 'grey', 'marginBottom': 20}))\n",
        "            ]),\n",
        "            dbc.Row([\n",
        "                dbc.Col(html.Div([\n",
        "                    html.Blockquote(dataset_test_predict['Headlines'][7], style={'marginLeft': 30, 'fontSize': 18}),\n",
        "                    html.Figcaption(html.I(f'-{dataset_test_predict[\"Sources\"][7]}'),\n",
        "                                    style={'marginLeft': 60, 'marginTop': 20, 'fontSize': 12}),\n",
        "                ]\n",
        "                ), width=7),\n",
        "                dbc.Col(html.Div(html.H5(f'Category {dataset_test_predict[\"Category\"][7]}')), width=4,\n",
        "                        style={'textAlign': 'Right'})\n",
        "            ], style={'marginBottom': 50,'color':color_map[dataset_test_predict[\"Category\"][7]]}),\n",
        "            dbc.Row([\n",
        "                dbc.Col(html.Hr(style={'width': '95%', 'color': 'grey', 'marginBottom': 20}))\n",
        "            ]),\n",
        "            dbc.Row([\n",
        "                dbc.Col(html.Div([\n",
        "                    html.Blockquote(dataset_test_predict['Headlines'][8], style={'marginLeft': 30, 'fontSize': 18}),\n",
        "                    html.Figcaption(html.I(f'-{dataset_test_predict[\"Sources\"][8]}'),\n",
        "                                    style={'marginLeft': 60, 'marginTop': 20, 'fontSize': 12}),\n",
        "                ]\n",
        "                ), width=7),\n",
        "                dbc.Col(html.Div(html.H5(f'Category {dataset_test_predict[\"Category\"][8]}')), width=4,\n",
        "                        style={'textAlign': 'Right'})\n",
        "            ], style={'marginBottom': 50,'color':color_map[dataset_test_predict[\"Category\"][8]]}),\n",
        "            dbc.Row([\n",
        "                dbc.Col(html.Hr(style={'width': '95%', 'color': 'grey', 'marginBottom': 20}))\n",
        "            ]),\n",
        "            dbc.Row([\n",
        "                dbc.Col(html.Div([\n",
        "                    html.Blockquote(dataset_test_predict['Headlines'][9], style={'marginLeft': 30, 'fontSize': 18}),\n",
        "                    html.Figcaption(html.I(f'-{dataset_test_predict[\"Sources\"][9]}'),\n",
        "                                    style={'marginLeft': 60, 'marginTop': 20, 'fontSize': 12, 'marginBottom': 20}),\n",
        "                ]\n",
        "                ), width=7),\n",
        "                dbc.Col(html.Div(html.H5(f'Category {dataset_test_predict[\"Category\"][9]}')), width=4,\n",
        "                        style={'textAlign': 'Right'})\n",
        "            ],style={'color':color_map[dataset_test_predict[\"Category\"][9]]})]\n",
        "        ),\n",
        "        dbc.Row([\n",
        "            dbc.Col(html.Hr(style={'width': '99%', 'color': 'black', 'border-width': 2, 'marginBottom': 15,\n",
        "                                   'marginLeft': 0}))\n",
        "        ]),\n",
        "        html.Div([\n",
        "            dbc.Row([\n",
        "                dbc.Col(\n",
        "                    html.H2(html.B('News Analytics - Category wise distribution of news content'),\n",
        "                            style={'textAlign': 'left', 'marginBottom': 30, 'marginLeft': 10, 'marginTop': 15}),\n",
        "                    width=12)\n",
        "            ]),\n",
        "            dbc.Row([\n",
        "                dbc.Col(dropdown, width=12)\n",
        "            ]),\n",
        "            dbc.Row([\n",
        "                dbc.Col(dcc.Graph(id='news-piechart', figure={}, config={'displayModeBar': False}))\n",
        "            ], style={'marginBottom': 30}),\n",
        "            dbc.Row([\n",
        "                dbc.Col(html.Hr(style={'width': '99%', 'color': 'black', 'border-width': 2, 'marginBottom': 30,\n",
        "                                       'marginLeft': 0}))\n",
        "            ])\n",
        "        ]),\n",
        "        dbc.Row([\n",
        "            dbc.Col(\n",
        "                html.H2(html.B('News categories'), style={'textAlign': 'left', 'marginBottom': 30, 'marginLeft': 10}),\n",
        "                width=12)\n",
        "        ]),\n",
        "        dbc.Row([\n",
        "            dbc.Col(html.Div(html.H4('Category 1(Code Blue)')),\n",
        "                    style={'textAlign': 'Left', 'marginBottom': 5, 'marginLeft': 10,'color':'blue'})\n",
        "        ]),\n",
        "        dbc.Row([\n",
        "            dbc.Col(html.Div(html.H6('Minuscule chance of news being fake.Mostly on fuel prices.')),\n",
        "                    style={'textAlign': 'Left', 'marginBottom': 15, 'marginLeft': 15,'color':'blue'})\n",
        "        ]),\n",
        "        dbc.Row([\n",
        "            dbc.Col(html.Div(html.H4('Category 2(Code Baby Blue)')),\n",
        "                    style={'textAlign': 'Left', 'marginBottom': 5, 'marginLeft': 10,'color':'#89CFF0'})\n",
        "        ]),\n",
        "        dbc.Row([\n",
        "            dbc.Col(html.Div(\n",
        "                html.H6('Small chance of news being fake. Mostly on economy, stock markets, railways, aviation,etc.')),\n",
        "                    style={'textAlign': 'Left', 'marginBottom': 15, 'marginLeft': 15,'color':'#89CFF0'})\n",
        "        ]),\n",
        "        dbc.Row([\n",
        "            dbc.Col(html.Div(html.H4('Category 3(Code Green)')),\n",
        "                    style={'textAlign': 'Left', 'marginBottom': 5, 'marginLeft': 10,'color':'green'})\n",
        "        ]),\n",
        "        dbc.Row([\n",
        "            dbc.Col(html.Div(html.H6(\n",
        "                'Moderate probability of news being fake. News mostly on health, economy, stock markets and politics with very little bias.')),\n",
        "                    style={'textAlign': 'Left', 'marginBottom': 15, 'marginLeft': 15,'color':'green'})\n",
        "        ]),\n",
        "        dbc.Row([\n",
        "            dbc.Col(html.Div(html.H4('Category 4(Code Orange)')),\n",
        "                    style={'textAlign': 'Left', 'marginBottom': 5, 'marginLeft': 10,'color':'orange'})\n",
        "        ]),\n",
        "        dbc.Row([\n",
        "            dbc.Col(html.Div(\n",
        "                html.H6('High probability of news being fake. Incident-based news and propaganda are present. But sports and film industry based news are also present, which are generally true.')),\n",
        "                    style={'textAlign': 'Left', 'marginBottom': 15, 'marginLeft': 15,'color':'orange'})\n",
        "        ]),\n",
        "        dbc.Row([\n",
        "            dbc.Col(html.Div(html.H4('Category 5(Code Red)')),\n",
        "                    style={'textAlign': 'Left', 'marginBottom': 5, 'marginLeft': 10,'color':'red'})\n",
        "        ]),\n",
        "        dbc.Row([\n",
        "            dbc.Col(html.Div(html.H6(\n",
        "                'Very high probability of news being fake. Mostly consists of propaganda.')),\n",
        "                style={'textAlign': 'Left', 'marginBottom': 15, 'marginLeft': 15,'color':'red'})\n",
        "        ]),\n",
        "        dbc.Row([\n",
        "            dbc.Col(html.Div(html.H4('Category 6(Code Maroon)')),\n",
        "                    style={'textAlign': 'Left', 'marginBottom': 5, 'marginLeft': 10,'color':'maroon'})\n",
        "        ]),\n",
        "        dbc.Row([\n",
        "            dbc.Col(html.Div(html.H6(\n",
        "                'Definitely fake.')),\n",
        "                style={'textAlign': 'Left', 'marginBottom': 15, 'marginLeft': 15,'color':'maroon'})\n",
        "        ]),\n",
        "    ]\n",
        ")\n",
        "\n",
        "\n",
        "@app.callback(\n",
        "    Output(component_id='news-piechart', component_property='figure'),\n",
        "    [Input(component_id='news-source', component_property='value')]\n",
        ")\n",
        "def pie_graph(news_source):\n",
        "    data_news_source = news_classification[:][news_classification['Sources'] == news_source]\n",
        "    color_map = {}\n",
        "    for category in list(data_news_source['Category']):\n",
        "        if (category == 1):\n",
        "            color_map[1] = 'blue'\n",
        "        elif (category == 2):\n",
        "            color_map[2] = '#89CFF0'\n",
        "        elif (category == 3):\n",
        "            color_map[3] = 'green'\n",
        "        elif (category == 4):\n",
        "            color_map[4] = 'orange'\n",
        "        elif (category == 5):\n",
        "            color_map[5] = 'red'\n",
        "        elif (category == 6):\n",
        "            color_map[6] = 'brown'\n",
        "    fig_pie_chart = px.pie(data_news_source,names='Category',\n",
        "                           values='Percentage',\n",
        "                           color=color_map.keys(),\n",
        "                           color_discrete_map=color_map)\n",
        "    fig_pie_chart.update_traces(hovertemplate='Category : %{label}: <br>Percentage: %{value} %</br>')\n",
        "    return fig_pie_chart\n",
        "\n",
        "\n",
        "if __name__ == '__main__':\n",
        "    app.run_server(debug=False)"
      ],
      "execution_count": null,
      "outputs": []
    }
  ]
}